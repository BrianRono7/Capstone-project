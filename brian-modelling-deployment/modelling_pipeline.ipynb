{
 "cells": [
  {
   "cell_type": "markdown",
   "metadata": {},
   "source": [
    "# 1.0  Data Preparation"
   ]
  },
  {
   "cell_type": "markdown",
   "metadata": {},
   "source": [
    "## GADM Shapefile (Admin Boundaries)\n",
    "\n",
    "We use the GADM shapefile to load Kenya's county and sub-county boundaries. This helps us link food price and weather data to specific regions for analysis and visualization.\n"
   ]
  },
  {
   "cell_type": "code",
   "execution_count": 1,
   "metadata": {},
   "outputs": [],
   "source": [
    "!wget -q https://geodata.ucdavis.edu/gadm/gadm4.1/json/gadm41_KEN_2.json.zip && unzip -oq gadm41_KEN_2.json.zip && rm gadm41_KEN_2.json.zip"
   ]
  },
  {
   "cell_type": "code",
   "execution_count": 2,
   "metadata": {},
   "outputs": [],
   "source": [
    "#importing libraries\n",
    "import pandas as pd\n",
    "import geopandas as gpd\n",
    "from shapely.geometry import Point"
   ]
  },
  {
   "cell_type": "markdown",
   "metadata": {},
   "source": [
    "## 1.1 Load Datasets\n",
    "\n",
    "We load food prices, market information, rainfall data, and Kenya's administrative boundaries to begin the data preparation process.\n"
   ]
  },
  {
   "cell_type": "code",
   "execution_count": null,
   "metadata": {},
   "outputs": [],
   "source": [
    "# Load food price dataset\n",
    "prices = pd.read_csv(\"wfp_food_prices_ken.csv\", comment='#')\n",
    "\n",
    "# Load market locations and metadata\n",
    "markets = pd.read_csv(\"wfp_markets_ken.csv\", comment='#')\n",
    "\n",
    "# Load county and sub-county boundaries (GADM Level 2)\n",
    "counties = gpd.read_file(\"gadm41_KEN_2.json\")\n",
    "\n",
    "# Load county-level monthly rainfall data\n",
    "rainfall = pd.read_csv(\"kenya_county_rainfall.csv\")\n"
   ]
  }
 ],
 "metadata": {
  "kernelspec": {
   "display_name": "learn-env",
   "language": "python",
   "name": "python3"
  },
  "language_info": {
   "codemirror_mode": {
    "name": "ipython",
    "version": 3
   },
   "file_extension": ".py",
   "mimetype": "text/x-python",
   "name": "python",
   "nbconvert_exporter": "python",
   "pygments_lexer": "ipython3",
   "version": "3.10.17"
  }
 },
 "nbformat": 4,
 "nbformat_minor": 2
}
