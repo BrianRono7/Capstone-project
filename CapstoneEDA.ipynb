{
 "cells": [
  {
   "cell_type": "markdown",
   "id": "cb18bd6f-e861-4117-a8ff-9bca55f2d3b1",
   "metadata": {},
   "source": [
    "# **Data Preparation**:"
   ]
  },
  {
   "cell_type": "code",
   "execution_count": 4,
   "id": "3fccc05c-a74c-4129-b031-00ecf23fac5e",
   "metadata": {},
   "outputs": [],
   "source": [
    "#importing libraries \n",
    "import pandas as pd\n",
    "import seaborn as sns\n",
    "import matplotlib.pyplot as plt\n",
    "from sklearn.metrics import accuracy_score, classification_report\n",
    "import pandas as pd\n",
    "from sklearn.metrics import accuracy_score\n",
    "from sklearn.ensemble import RandomForestClassifier\n",
    "from sklearn.model_selection import train_test_split"
   ]
  },
  {
   "cell_type": "code",
   "execution_count": 5,
   "id": "3ae56f71-9351-4e9d-948a-5e2ae571b959",
   "metadata": {},
   "outputs": [
    {
     "data": {
      "text/html": [
       "<div>\n",
       "<style scoped>\n",
       "    .dataframe tbody tr th:only-of-type {\n",
       "        vertical-align: middle;\n",
       "    }\n",
       "\n",
       "    .dataframe tbody tr th {\n",
       "        vertical-align: top;\n",
       "    }\n",
       "\n",
       "    .dataframe thead th {\n",
       "        text-align: right;\n",
       "    }\n",
       "</style>\n",
       "<table border=\"1\" class=\"dataframe\">\n",
       "  <thead>\n",
       "    <tr style=\"text-align: right;\">\n",
       "      <th></th>\n",
       "      <th>time</th>\n",
       "      <th>precipitation_sum (mm)</th>\n",
       "      <th>Unnamed: 2</th>\n",
       "      <th>Unnamed: 3</th>\n",
       "      <th>Unnamed: 4</th>\n",
       "      <th>Unnamed: 5</th>\n",
       "      <th>town</th>\n",
       "    </tr>\n",
       "  </thead>\n",
       "  <tbody>\n",
       "    <tr>\n",
       "      <th>0</th>\n",
       "      <td>01/01/2022</td>\n",
       "      <td>0.0</td>\n",
       "      <td>NaN</td>\n",
       "      <td>NaN</td>\n",
       "      <td>NaN</td>\n",
       "      <td>NaN</td>\n",
       "      <td>Nairobi</td>\n",
       "    </tr>\n",
       "    <tr>\n",
       "      <th>1</th>\n",
       "      <td>02/01/2022</td>\n",
       "      <td>0.0</td>\n",
       "      <td>NaN</td>\n",
       "      <td>NaN</td>\n",
       "      <td>NaN</td>\n",
       "      <td>NaN</td>\n",
       "      <td>Nairobi</td>\n",
       "    </tr>\n",
       "    <tr>\n",
       "      <th>2</th>\n",
       "      <td>03/01/2022</td>\n",
       "      <td>0.0</td>\n",
       "      <td>NaN</td>\n",
       "      <td>NaN</td>\n",
       "      <td>NaN</td>\n",
       "      <td>NaN</td>\n",
       "      <td>Nairobi</td>\n",
       "    </tr>\n",
       "    <tr>\n",
       "      <th>3</th>\n",
       "      <td>04/01/2022</td>\n",
       "      <td>0.0</td>\n",
       "      <td>NaN</td>\n",
       "      <td>NaN</td>\n",
       "      <td>NaN</td>\n",
       "      <td>NaN</td>\n",
       "      <td>Nairobi</td>\n",
       "    </tr>\n",
       "    <tr>\n",
       "      <th>4</th>\n",
       "      <td>05/01/2022</td>\n",
       "      <td>0.0</td>\n",
       "      <td>NaN</td>\n",
       "      <td>NaN</td>\n",
       "      <td>NaN</td>\n",
       "      <td>NaN</td>\n",
       "      <td>Nairobi</td>\n",
       "    </tr>\n",
       "  </tbody>\n",
       "</table>\n",
       "</div>"
      ],
      "text/plain": [
       "         time  precipitation_sum (mm)  Unnamed: 2  Unnamed: 3  Unnamed: 4  \\\n",
       "0  01/01/2022                     0.0         NaN         NaN         NaN   \n",
       "1  02/01/2022                     0.0         NaN         NaN         NaN   \n",
       "2  03/01/2022                     0.0         NaN         NaN         NaN   \n",
       "3  04/01/2022                     0.0         NaN         NaN         NaN   \n",
       "4  05/01/2022                     0.0         NaN         NaN         NaN   \n",
       "\n",
       "   Unnamed: 5     town  \n",
       "0         NaN  Nairobi  \n",
       "1         NaN  Nairobi  \n",
       "2         NaN  Nairobi  \n",
       "3         NaN  Nairobi  \n",
       "4         NaN  Nairobi  "
      ]
     },
     "execution_count": 5,
     "metadata": {},
     "output_type": "execute_result"
    }
   ],
   "source": [
    "#loading  and previewing rainfall data sets:\n",
    "rainfal=pd.read_csv(\"kenya_rainfall_2022_2024.csv\")\n",
    "rainfal.head()"
   ]
  },
  {
   "cell_type": "code",
   "execution_count": 6,
   "id": "bc62e0e8-5ab7-4278-9621-a93d153cc828",
   "metadata": {},
   "outputs": [
    {
     "data": {
      "text/html": [
       "<div>\n",
       "<style scoped>\n",
       "    .dataframe tbody tr th:only-of-type {\n",
       "        vertical-align: middle;\n",
       "    }\n",
       "\n",
       "    .dataframe tbody tr th {\n",
       "        vertical-align: top;\n",
       "    }\n",
       "\n",
       "    .dataframe thead th {\n",
       "        text-align: right;\n",
       "    }\n",
       "</style>\n",
       "<table border=\"1\" class=\"dataframe\">\n",
       "  <thead>\n",
       "    <tr style=\"text-align: right;\">\n",
       "      <th></th>\n",
       "      <th>date</th>\n",
       "      <th>admin1</th>\n",
       "      <th>admin2</th>\n",
       "      <th>market</th>\n",
       "      <th>market_id</th>\n",
       "      <th>latitude</th>\n",
       "      <th>longitude</th>\n",
       "      <th>category</th>\n",
       "      <th>commodity</th>\n",
       "      <th>commodity_id</th>\n",
       "      <th>unit</th>\n",
       "      <th>priceflag</th>\n",
       "      <th>pricetype</th>\n",
       "      <th>currency</th>\n",
       "      <th>price</th>\n",
       "      <th>usdprice</th>\n",
       "    </tr>\n",
       "  </thead>\n",
       "  <tbody>\n",
       "    <tr>\n",
       "      <th>0</th>\n",
       "      <td>#date</td>\n",
       "      <td>#adm1+name</td>\n",
       "      <td>#adm2+name</td>\n",
       "      <td>#loc+market+name</td>\n",
       "      <td>#loc+market+code</td>\n",
       "      <td>#geo+lat</td>\n",
       "      <td>#geo+lon</td>\n",
       "      <td>#item+type</td>\n",
       "      <td>#item+name</td>\n",
       "      <td>#item+code</td>\n",
       "      <td>#item+unit</td>\n",
       "      <td>#item+price+flag</td>\n",
       "      <td>#item+price+type</td>\n",
       "      <td>#currency+code</td>\n",
       "      <td>#value</td>\n",
       "      <td>#value+usd</td>\n",
       "    </tr>\n",
       "    <tr>\n",
       "      <th>1</th>\n",
       "      <td>2006-01-15</td>\n",
       "      <td>Coast</td>\n",
       "      <td>Mombasa</td>\n",
       "      <td>Mombasa</td>\n",
       "      <td>191</td>\n",
       "      <td>-4.05</td>\n",
       "      <td>39.67</td>\n",
       "      <td>pulses and nuts</td>\n",
       "      <td>Beans</td>\n",
       "      <td>50</td>\n",
       "      <td>KG</td>\n",
       "      <td>actual</td>\n",
       "      <td>Wholesale</td>\n",
       "      <td>KES</td>\n",
       "      <td>33.63</td>\n",
       "      <td>0.47</td>\n",
       "    </tr>\n",
       "    <tr>\n",
       "      <th>2</th>\n",
       "      <td>2006-01-15</td>\n",
       "      <td>Eastern</td>\n",
       "      <td>Kitui</td>\n",
       "      <td>Kitui</td>\n",
       "      <td>187</td>\n",
       "      <td>-1.37</td>\n",
       "      <td>38.02</td>\n",
       "      <td>cereals and tubers</td>\n",
       "      <td>Potatoes (Irish)</td>\n",
       "      <td>148</td>\n",
       "      <td>50 KG</td>\n",
       "      <td>actual</td>\n",
       "      <td>Wholesale</td>\n",
       "      <td>KES</td>\n",
       "      <td>1249.99</td>\n",
       "      <td>17.39</td>\n",
       "    </tr>\n",
       "    <tr>\n",
       "      <th>3</th>\n",
       "      <td>2006-01-15</td>\n",
       "      <td>Eastern</td>\n",
       "      <td>Kitui</td>\n",
       "      <td>Kitui</td>\n",
       "      <td>187</td>\n",
       "      <td>-1.37</td>\n",
       "      <td>38.02</td>\n",
       "      <td>cereals and tubers</td>\n",
       "      <td>Sorghum</td>\n",
       "      <td>65</td>\n",
       "      <td>90 KG</td>\n",
       "      <td>actual</td>\n",
       "      <td>Wholesale</td>\n",
       "      <td>KES</td>\n",
       "      <td>1800</td>\n",
       "      <td>25.03</td>\n",
       "    </tr>\n",
       "    <tr>\n",
       "      <th>4</th>\n",
       "      <td>2006-01-15</td>\n",
       "      <td>Eastern</td>\n",
       "      <td>Kitui</td>\n",
       "      <td>Kitui</td>\n",
       "      <td>187</td>\n",
       "      <td>-1.37</td>\n",
       "      <td>38.02</td>\n",
       "      <td>pulses and nuts</td>\n",
       "      <td>Beans (dry)</td>\n",
       "      <td>262</td>\n",
       "      <td>KG</td>\n",
       "      <td>actual</td>\n",
       "      <td>Retail</td>\n",
       "      <td>KES</td>\n",
       "      <td>39</td>\n",
       "      <td>0.54</td>\n",
       "    </tr>\n",
       "  </tbody>\n",
       "</table>\n",
       "</div>"
      ],
      "text/plain": [
       "         date      admin1      admin2            market         market_id  \\\n",
       "0       #date  #adm1+name  #adm2+name  #loc+market+name  #loc+market+code   \n",
       "1  2006-01-15       Coast     Mombasa           Mombasa               191   \n",
       "2  2006-01-15     Eastern       Kitui             Kitui               187   \n",
       "3  2006-01-15     Eastern       Kitui             Kitui               187   \n",
       "4  2006-01-15     Eastern       Kitui             Kitui               187   \n",
       "\n",
       "   latitude longitude            category         commodity commodity_id  \\\n",
       "0  #geo+lat  #geo+lon          #item+type        #item+name   #item+code   \n",
       "1     -4.05     39.67     pulses and nuts             Beans           50   \n",
       "2     -1.37     38.02  cereals and tubers  Potatoes (Irish)          148   \n",
       "3     -1.37     38.02  cereals and tubers           Sorghum           65   \n",
       "4     -1.37     38.02     pulses and nuts       Beans (dry)          262   \n",
       "\n",
       "         unit         priceflag         pricetype        currency    price  \\\n",
       "0  #item+unit  #item+price+flag  #item+price+type  #currency+code   #value   \n",
       "1          KG            actual         Wholesale             KES    33.63   \n",
       "2       50 KG            actual         Wholesale             KES  1249.99   \n",
       "3       90 KG            actual         Wholesale             KES     1800   \n",
       "4          KG            actual            Retail             KES       39   \n",
       "\n",
       "     usdprice  \n",
       "0  #value+usd  \n",
       "1        0.47  \n",
       "2       17.39  \n",
       "3       25.03  \n",
       "4        0.54  "
      ]
     },
     "execution_count": 6,
     "metadata": {},
     "output_type": "execute_result"
    }
   ],
   "source": [
    "#loading and previewing wfp food prices\n",
    "foodprices=pd.read_csv('wfp_food_prices_ken.csv')\n",
    "foodprices.head()"
   ]
  },
  {
   "cell_type": "code",
   "execution_count": 7,
   "id": "97a1e51c-11a8-4fc9-90e6-c1ed71ddb925",
   "metadata": {},
   "outputs": [
    {
     "data": {
      "text/html": [
       "<div>\n",
       "<style scoped>\n",
       "    .dataframe tbody tr th:only-of-type {\n",
       "        vertical-align: middle;\n",
       "    }\n",
       "\n",
       "    .dataframe tbody tr th {\n",
       "        vertical-align: top;\n",
       "    }\n",
       "\n",
       "    .dataframe thead th {\n",
       "        text-align: right;\n",
       "    }\n",
       "</style>\n",
       "<table border=\"1\" class=\"dataframe\">\n",
       "  <thead>\n",
       "    <tr style=\"text-align: right;\">\n",
       "      <th></th>\n",
       "      <th>city</th>\n",
       "      <th>lat</th>\n",
       "      <th>lng</th>\n",
       "      <th>country</th>\n",
       "      <th>iso2</th>\n",
       "      <th>admin_name</th>\n",
       "      <th>capital</th>\n",
       "      <th>population</th>\n",
       "      <th>population_proper</th>\n",
       "    </tr>\n",
       "  </thead>\n",
       "  <tbody>\n",
       "    <tr>\n",
       "      <th>0</th>\n",
       "      <td>Nairobi</td>\n",
       "      <td>-1.2864</td>\n",
       "      <td>36.8172</td>\n",
       "      <td>Kenya</td>\n",
       "      <td>KE</td>\n",
       "      <td>Nairobi City</td>\n",
       "      <td>primary</td>\n",
       "      <td>5545000.0</td>\n",
       "      <td>5545000.0</td>\n",
       "    </tr>\n",
       "    <tr>\n",
       "      <th>1</th>\n",
       "      <td>Mombasa</td>\n",
       "      <td>-4.0500</td>\n",
       "      <td>39.6667</td>\n",
       "      <td>Kenya</td>\n",
       "      <td>KE</td>\n",
       "      <td>Mombasa</td>\n",
       "      <td>admin</td>\n",
       "      <td>1208333.0</td>\n",
       "      <td>1200000.0</td>\n",
       "    </tr>\n",
       "    <tr>\n",
       "      <th>2</th>\n",
       "      <td>Nakuru</td>\n",
       "      <td>-0.3000</td>\n",
       "      <td>36.0667</td>\n",
       "      <td>Kenya</td>\n",
       "      <td>KE</td>\n",
       "      <td>Nakuru</td>\n",
       "      <td>admin</td>\n",
       "      <td>570674.0</td>\n",
       "      <td>307990.0</td>\n",
       "    </tr>\n",
       "    <tr>\n",
       "      <th>3</th>\n",
       "      <td>Eldoret</td>\n",
       "      <td>0.5167</td>\n",
       "      <td>35.2833</td>\n",
       "      <td>Kenya</td>\n",
       "      <td>KE</td>\n",
       "      <td>Uasin Gishu</td>\n",
       "      <td>admin</td>\n",
       "      <td>475716.0</td>\n",
       "      <td>289380.0</td>\n",
       "    </tr>\n",
       "    <tr>\n",
       "      <th>4</th>\n",
       "      <td>Kisumu</td>\n",
       "      <td>-0.0833</td>\n",
       "      <td>34.7667</td>\n",
       "      <td>Kenya</td>\n",
       "      <td>KE</td>\n",
       "      <td>Kisumu</td>\n",
       "      <td>admin</td>\n",
       "      <td>409928.0</td>\n",
       "      <td>409928.0</td>\n",
       "    </tr>\n",
       "  </tbody>\n",
       "</table>\n",
       "</div>"
      ],
      "text/plain": [
       "      city     lat      lng country iso2    admin_name  capital  population  \\\n",
       "0  Nairobi -1.2864  36.8172   Kenya   KE  Nairobi City  primary   5545000.0   \n",
       "1  Mombasa -4.0500  39.6667   Kenya   KE       Mombasa    admin   1208333.0   \n",
       "2   Nakuru -0.3000  36.0667   Kenya   KE        Nakuru    admin    570674.0   \n",
       "3  Eldoret  0.5167  35.2833   Kenya   KE   Uasin Gishu    admin    475716.0   \n",
       "4   Kisumu -0.0833  34.7667   Kenya   KE        Kisumu    admin    409928.0   \n",
       "\n",
       "   population_proper  \n",
       "0          5545000.0  \n",
       "1          1200000.0  \n",
       "2           307990.0  \n",
       "3           289380.0  \n",
       "4           409928.0  "
      ]
     },
     "execution_count": 7,
     "metadata": {},
     "output_type": "execute_result"
    }
   ],
   "source": [
    "#loading and previewing cities data:\n",
    "towns=pd.read_csv('cities_latitude_and_longitudes.csv')\n",
    "towns.head()"
   ]
  },
  {
   "cell_type": "code",
   "execution_count": 8,
   "id": "837ba73d-d8ce-4f41-b08c-22c376c448fc",
   "metadata": {},
   "outputs": [
    {
     "data": {
      "text/plain": [
       "['date',\n",
       " 'admin1',\n",
       " 'admin2',\n",
       " 'market',\n",
       " 'market_id',\n",
       " 'latitude',\n",
       " 'longitude',\n",
       " 'category',\n",
       " 'commodity',\n",
       " 'commodity_id',\n",
       " 'unit',\n",
       " 'priceflag',\n",
       " 'pricetype',\n",
       " 'currency',\n",
       " 'price',\n",
       " 'usdprice']"
      ]
     },
     "execution_count": 8,
     "metadata": {},
     "output_type": "execute_result"
    }
   ],
   "source": [
    "#previewing foodprices columns\n",
    "list(foodprices.columns)"
   ]
  },
  {
   "cell_type": "code",
   "execution_count": 9,
   "id": "1f3c9c6d-a2b1-442a-89aa-568a525f05d5",
   "metadata": {},
   "outputs": [
    {
     "data": {
      "text/plain": [
       "['time',\n",
       " 'precipitation_sum (mm)',\n",
       " 'Unnamed: 2',\n",
       " 'Unnamed: 3',\n",
       " 'Unnamed: 4',\n",
       " 'Unnamed: 5',\n",
       " 'town']"
      ]
     },
     "execution_count": 9,
     "metadata": {},
     "output_type": "execute_result"
    }
   ],
   "source": [
    "#previewing rainfal columns\n",
    "list(rainfal.columns)"
   ]
  },
  {
   "cell_type": "code",
   "execution_count": 10,
   "id": "22dbb68b-88d2-4034-9ed8-60d46f18d557",
   "metadata": {},
   "outputs": [
    {
     "name": "stdout",
     "output_type": "stream",
     "text": [
      "<class 'pandas.core.frame.DataFrame'>\n",
      "RangeIndex: 12783 entries, 0 to 12782\n",
      "Data columns (total 16 columns):\n",
      " #   Column        Non-Null Count  Dtype \n",
      "---  ------        --------------  ----- \n",
      " 0   date          12783 non-null  object\n",
      " 1   admin1        12749 non-null  object\n",
      " 2   admin2        12749 non-null  object\n",
      " 3   market        12783 non-null  object\n",
      " 4   market_id     12783 non-null  object\n",
      " 5   latitude      12749 non-null  object\n",
      " 6   longitude     12749 non-null  object\n",
      " 7   category      12783 non-null  object\n",
      " 8   commodity     12783 non-null  object\n",
      " 9   commodity_id  12783 non-null  object\n",
      " 10  unit          12783 non-null  object\n",
      " 11  priceflag     12783 non-null  object\n",
      " 12  pricetype     12783 non-null  object\n",
      " 13  currency      12783 non-null  object\n",
      " 14  price         12783 non-null  object\n",
      " 15  usdprice      12783 non-null  object\n",
      "dtypes: object(16)\n",
      "memory usage: 1.6+ MB\n"
     ]
    }
   ],
   "source": [
    "foodprices.info()"
   ]
  },
  {
   "cell_type": "markdown",
   "id": "2fbf589e-67f8-4c51-b4be-1d3de3d22ee9",
   "metadata": {},
   "source": [
    "Food price data has 12783 rows.\n",
    "columns such as date price are of string data types."
   ]
  },
  {
   "cell_type": "code",
   "execution_count": 11,
   "id": "076c592a-f679-4aea-b633-0151a46f1a43",
   "metadata": {},
   "outputs": [
    {
     "data": {
      "text/plain": [
       "date             0\n",
       "admin1          34\n",
       "admin2          34\n",
       "market           0\n",
       "market_id        0\n",
       "latitude        34\n",
       "longitude       34\n",
       "category         0\n",
       "commodity        0\n",
       "commodity_id     0\n",
       "unit             0\n",
       "priceflag        0\n",
       "pricetype        0\n",
       "currency         0\n",
       "price            0\n",
       "usdprice         0\n",
       "dtype: int64"
      ]
     },
     "execution_count": 11,
     "metadata": {},
     "output_type": "execute_result"
    }
   ],
   "source": [
    "#Checking for null values:\n",
    "foodprices.isnull().sum()"
   ]
  },
  {
   "cell_type": "markdown",
   "id": "7b1ecc09-1529-485c-8249-68c7b6e234fd",
   "metadata": {},
   "source": [
    "Food prices has a total of 34 rows with null values under the region, subregion,latitude and longitude columns."
   ]
  },
  {
   "cell_type": "code",
   "execution_count": 12,
   "id": "e971c3aa-d493-49b6-b5e7-897d7f4c4c17",
   "metadata": {},
   "outputs": [
    {
     "data": {
      "text/plain": [
       "time                         61\n",
       "precipitation_sum (mm)       61\n",
       "Unnamed: 2                69109\n",
       "Unnamed: 3                69109\n",
       "Unnamed: 4                69109\n",
       "Unnamed: 5                69109\n",
       "town                         61\n",
       "dtype: int64"
      ]
     },
     "execution_count": 12,
     "metadata": {},
     "output_type": "execute_result"
    }
   ],
   "source": [
    "rainfal.isnull().sum()"
   ]
  },
  {
   "cell_type": "markdown",
   "id": "7fa6aa0d-977d-4931-9e51-f279f2917b6a",
   "metadata": {},
   "source": [
    "Unnamed columns in rainfall dataset have 69109 null values while time and precipitation columsn have 61 missing values"
   ]
  },
  {
   "cell_type": "code",
   "execution_count": 13,
   "id": "4957d519-9750-44cc-9aa9-7c909633cd45",
   "metadata": {},
   "outputs": [
    {
     "name": "stdout",
     "output_type": "stream",
     "text": [
      "<class 'pandas.core.frame.DataFrame'>\n",
      "RangeIndex: 69109 entries, 0 to 69108\n",
      "Data columns (total 7 columns):\n",
      " #   Column                  Non-Null Count  Dtype  \n",
      "---  ------                  --------------  -----  \n",
      " 0   time                    69048 non-null  object \n",
      " 1   precipitation_sum (mm)  69048 non-null  float64\n",
      " 2   Unnamed: 2              0 non-null      float64\n",
      " 3   Unnamed: 3              0 non-null      float64\n",
      " 4   Unnamed: 4              0 non-null      float64\n",
      " 5   Unnamed: 5              0 non-null      float64\n",
      " 6   town                    69048 non-null  object \n",
      "dtypes: float64(5), object(2)\n",
      "memory usage: 3.7+ MB\n"
     ]
    }
   ],
   "source": [
    "rainfal.info()"
   ]
  },
  {
   "cell_type": "markdown",
   "id": "be374922-4bc6-4897-bf49-a9bf9aa56ccf",
   "metadata": {},
   "source": [
    "Rainfal data has 69048 rows. Time column has string data type.\n",
    "The data has 4 columns with null values "
   ]
  },
  {
   "cell_type": "code",
   "execution_count": null,
   "id": "f4a2f574-1313-4aa8-ae23-bd82acc1de9a",
   "metadata": {},
   "outputs": [],
   "source": []
  }
 ],
 "metadata": {
  "kernelspec": {
   "display_name": "Python 3 (ipykernel)",
   "language": "python",
   "name": "python3"
  },
  "language_info": {
   "codemirror_mode": {
    "name": "ipython",
    "version": 3
   },
   "file_extension": ".py",
   "mimetype": "text/x-python",
   "name": "python",
   "nbconvert_exporter": "python",
   "pygments_lexer": "ipython3",
   "version": "3.12.3"
  }
 },
 "nbformat": 4,
 "nbformat_minor": 5
}
